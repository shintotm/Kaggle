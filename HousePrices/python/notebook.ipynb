﻿{
 "metadata": {
  "kernelspec": {
   "display_name": "Python 3",
   "language": "python",
   "name": "python3"
  },
  "language_info": {
   "codemirror_mode": {
    "name": "ipython",
    "version": 3
   },
   "file_extension": ".py",
   "mimetype": "text/x-python",
   "name": "python",
   "nbconvert_exporter": "python",
   "pygments_lexer": "ipython3",
   "version": "3.5.2"
  }
 },
 "nbformat": 4,
 "nbformat_minor": 0,
 "cells": [
  {
   "cell_type": "code",
   "source": "# This Python 3 environment comes with many helpful analytics libraries installed\n# It is defined by the kaggle/python docker image: https://github.com/kaggle/docker-python\n# For example, here's several helpful packages to load in \n\nimport numpy as np # linear algebra\nimport pandas as pd # data processing, CSV file I/O (e.g. pd.read_csv)\n\n# Input data files are available in the \"../input/\" directory.\n# For example, running this (by clicking run or pressing Shift+Enter) will list the files in the input directory\n\nfrom subprocess import check_output\nprint(check_output([\"ls\", \"../input\"]).decode(\"utf8\"))\n\n# Any results you write to the current directory are saved as output.",
   "execution_count": 61,
   "outputs": [],
   "metadata": {}
  },
  {
   "cell_type": "code",
   "source": "train  = pd.read_csv('../input/train.csv')\ntest = pd.read_csv('../input/test.csv')",
   "execution_count": 62,
   "outputs": [],
   "metadata": {}
  },
  {
   "cell_type": "code",
   "source": "from sklearn.linear_model import LinearRegression, Lasso, ElasticNet, Ridge\nfrom sklearn.tree import DecisionTreeRegressor\nfrom sklearn.neighbors import KNeighborsRegressor\nfrom sklearn.svm import  SVR\nfrom sklearn.model_selection import cross_val_score",
   "execution_count": 63,
   "outputs": [],
   "metadata": {}
  },
  {
   "cell_type": "code",
   "source": "def do_cross_validation(X_train, y_train):\n    models = []\n    models.append(('LR', LinearRegression()))\n    models.append(('LASSO', Lasso()))\n    models.append(('EN', ElasticNet()))\n    models.append(('Ridge', Ridge()))\n    models.append(('CART', DecisionTreeRegressor()))\n    models.append(('KNN', KNeighborsRegressor()))\n    models.append(('SVR', SVR()))\n    results = []\n    names = []\n    scoring = 'neg_mean_squared_error'\n    for name, model in models:\n        cv_results = np.sqrt(-cross_val_score(model, X_train, y_train, cv=10, scoring=scoring))\n        results.append(cv_results)\n        names.append(name)\n        print('%s: %f (%f)' % (name, cv_results.mean(), cv_results.std()))",
   "execution_count": 64,
   "outputs": [],
   "metadata": {}
  },
  {
   "cell_type": "markdown",
   "source": "# Benchmark\nThe benchmark is  by using only four features",
   "metadata": {}
  },
  {
   "cell_type": "code",
   "source": "X_train = train[['YrSold', 'MoSold', 'LotArea', 'BedroomAbvGr']]\ny_train = np.log(train['SalePrice'])\nX_test = test[['YrSold', 'MoSold', 'LotArea', 'BedroomAbvGr']]\ndo_cross_validation(X_train, y_train)",
   "execution_count": 65,
   "outputs": [],
   "metadata": {}
  },
  {
   "cell_type": "code",
   "source": "model = LinearRegression()\nmodel.fit(X_train, y_train)\npred = np.exp(model.predict(X_test))\nsubmission = pd.DataFrame(data={'Id':test.Id, 'SalePrice': pred})\nsubmission.to_csv('Benchmark.csv', index=False)",
   "execution_count": 66,
   "outputs": [],
   "metadata": {}
  },
  {
   "cell_type": "markdown",
   "source": "# Feature Processing 1: Take all numerical features",
   "metadata": {}
  },
  {
   "cell_type": "code",
   "source": "all_data = pd.concat((train.loc[:, 'MSSubClass':'SaleCondition'],\n                     test.loc[:,'MSSubClass':'SaleCondition']))",
   "execution_count": 67,
   "outputs": [],
   "metadata": {}
  },
  {
   "cell_type": "code",
   "source": "# Get all the numeric features\nnumeric_cols = all_data.dtypes[all_data.dtypes !='object'].index\nnumeric_data = all_data[numeric_cols]\nprint(numeric_data.shape)",
   "execution_count": 68,
   "outputs": [],
   "metadata": {}
  },
  {
   "cell_type": "code",
   "source": "# missing values\nnumeric_data = numeric_data.fillna(numeric_data.mean())",
   "execution_count": 69,
   "outputs": [],
   "metadata": {}
  },
  {
   "cell_type": "code",
   "source": "X_train = numeric_data[:train.shape[0]]\ny_train = np.log(train['SalePrice'])\nX_test = numeric_data[train.shape[0]:]\ndo_cross_validation(X_train, y_train)",
   "execution_count": 70,
   "outputs": [],
   "metadata": {}
  },
  {
   "cell_type": "code",
   "source": "model = Ridge()\nmodel.fit(X_train, y_train)\npred = np.exp(model.predict(X_test))\nsubmission = pd.DataFrame(data={'Id':test.Id, 'SalePrice': pred})\nsubmission.to_csv('Ridge_FeatureProcessing1.csv', index=False)",
   "execution_count": 71,
   "outputs": [],
   "metadata": {}
  },
  {
   "cell_type": "markdown",
   "source": "# Feature Processing 2: Skewness of numerical data",
   "metadata": {}
  },
  {
   "cell_type": "code",
   "source": "from scipy.stats import skew\nskewed_cols = numeric_data.apply(lambda x: skew(x))\nskewed_cols = skewed_cols[skewed_cols > 0.75].index\nnumeric_data[skewed_cols] = np.log1p(numeric_data[skewed_cols])",
   "execution_count": 72,
   "outputs": [],
   "metadata": {}
  },
  {
   "cell_type": "code",
   "source": "X_train = numeric_data[:train.shape[0]]\ny_train = np.log(train['SalePrice'])\nX_test = numeric_data[train.shape[0]:]\ndo_cross_validation(X_train, y_train)",
   "execution_count": 73,
   "outputs": [],
   "metadata": {}
  },
  {
   "cell_type": "code",
   "source": "model = Ridge()\nmodel.fit(X_train, y_train)\npred = np.exp(model.predict(X_test))\nsubmission = pd.DataFrame(data={'Id':test.Id, 'SalePrice': pred})\nsubmission.to_csv('Ridge_FeatureProcessing2.csv', index=False)",
   "execution_count": 74,
   "outputs": [],
   "metadata": {}
  },
  {
   "cell_type": "markdown",
   "source": "# Feature Processing 3: Add categorical features",
   "metadata": {}
  },
  {
   "cell_type": "code",
   "source": "categori_cols = all_data.dtypes[all_data.dtypes == 'object'].index\ncategori_data = all_data[categori_cols]\ncategori_data = pd.get_dummies(categori_data)\nprint(categori_data.shape)\ncombined_data = pd.concat([numeric_data, categori_data], axis=1)\nprint(combined_data.shape)",
   "execution_count": 75,
   "outputs": [],
   "metadata": {}
  },
  {
   "cell_type": "code",
   "source": "X_train = combined_data[:train.shape[0]]\ny_train = np.log(train['SalePrice'])\nX_test = combined_data[train.shape[0]:]\ndo_cross_validation(X_train, y_train)",
   "execution_count": 76,
   "outputs": [],
   "metadata": {}
  },
  {
   "cell_type": "code",
   "source": "model = Ridge()\nmodel.fit(X_train, y_train)\npred = np.exp(model.predict(X_test))\nsubmission = pd.DataFrame(data={'Id':test.Id, 'SalePrice': pred})\nsubmission.to_csv('Ridge_FeatureProcessing3.csv', index=False)",
   "execution_count": 77,
   "outputs": [],
   "metadata": {}
  },
  {
   "cell_type": "markdown",
   "source": "# Feature Processing 4:  Change MSSubClass to categorical\nThe feature MSSubClass has all numerical values but it is more appropriate treat it  as categorical.",
   "execution_count": null,
   "outputs": [],
   "metadata": {}
  },
  {
   "cell_type": "code",
   "source": null,
   "execution_count": null,
   "outputs": [],
   "metadata": {}
  },
  {
   "cell_type": "code",
   "source": null,
   "execution_count": null,
   "outputs": [],
   "metadata": {}
  }
 ]
}