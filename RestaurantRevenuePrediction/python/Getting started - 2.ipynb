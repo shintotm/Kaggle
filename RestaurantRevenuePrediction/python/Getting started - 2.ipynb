{
 "cells": [
  {
   "cell_type": "markdown",
   "metadata": {},
   "source": [
    "In this script we will try some  visualization with the numeric variables"
   ]
  },
  {
   "cell_type": "code",
   "execution_count": 52,
   "metadata": {
    "collapsed": false
   },
   "outputs": [
    {
     "data": {
      "text/html": [
       "<div>\n",
       "<table border=\"1\" class=\"dataframe\">\n",
       "  <thead>\n",
       "    <tr style=\"text-align: right;\">\n",
       "      <th></th>\n",
       "      <th>Id</th>\n",
       "      <th>Open Date</th>\n",
       "      <th>City</th>\n",
       "      <th>City Group</th>\n",
       "      <th>Type</th>\n",
       "      <th>P1</th>\n",
       "      <th>P2</th>\n",
       "      <th>P3</th>\n",
       "      <th>P4</th>\n",
       "      <th>P5</th>\n",
       "      <th>...</th>\n",
       "      <th>P29</th>\n",
       "      <th>P30</th>\n",
       "      <th>P31</th>\n",
       "      <th>P32</th>\n",
       "      <th>P33</th>\n",
       "      <th>P34</th>\n",
       "      <th>P35</th>\n",
       "      <th>P36</th>\n",
       "      <th>P37</th>\n",
       "      <th>revenue</th>\n",
       "    </tr>\n",
       "  </thead>\n",
       "  <tbody>\n",
       "    <tr>\n",
       "      <th>0</th>\n",
       "      <td>0</td>\n",
       "      <td>07/17/1999</td>\n",
       "      <td>İstanbul</td>\n",
       "      <td>Big Cities</td>\n",
       "      <td>IL</td>\n",
       "      <td>4</td>\n",
       "      <td>5.0</td>\n",
       "      <td>4.0</td>\n",
       "      <td>4.0</td>\n",
       "      <td>2</td>\n",
       "      <td>...</td>\n",
       "      <td>3.0</td>\n",
       "      <td>5</td>\n",
       "      <td>3</td>\n",
       "      <td>4</td>\n",
       "      <td>5</td>\n",
       "      <td>5</td>\n",
       "      <td>4</td>\n",
       "      <td>3</td>\n",
       "      <td>4</td>\n",
       "      <td>5.65e+06</td>\n",
       "    </tr>\n",
       "    <tr>\n",
       "      <th>1</th>\n",
       "      <td>1</td>\n",
       "      <td>02/14/2008</td>\n",
       "      <td>Ankara</td>\n",
       "      <td>Big Cities</td>\n",
       "      <td>FC</td>\n",
       "      <td>4</td>\n",
       "      <td>5.0</td>\n",
       "      <td>4.0</td>\n",
       "      <td>4.0</td>\n",
       "      <td>1</td>\n",
       "      <td>...</td>\n",
       "      <td>3.0</td>\n",
       "      <td>0</td>\n",
       "      <td>0</td>\n",
       "      <td>0</td>\n",
       "      <td>0</td>\n",
       "      <td>0</td>\n",
       "      <td>0</td>\n",
       "      <td>0</td>\n",
       "      <td>0</td>\n",
       "      <td>6.92e+06</td>\n",
       "    </tr>\n",
       "    <tr>\n",
       "      <th>2</th>\n",
       "      <td>2</td>\n",
       "      <td>03/09/2013</td>\n",
       "      <td>Diyarbakır</td>\n",
       "      <td>Other</td>\n",
       "      <td>IL</td>\n",
       "      <td>2</td>\n",
       "      <td>4.0</td>\n",
       "      <td>2.0</td>\n",
       "      <td>5.0</td>\n",
       "      <td>2</td>\n",
       "      <td>...</td>\n",
       "      <td>3.0</td>\n",
       "      <td>0</td>\n",
       "      <td>0</td>\n",
       "      <td>0</td>\n",
       "      <td>0</td>\n",
       "      <td>0</td>\n",
       "      <td>0</td>\n",
       "      <td>0</td>\n",
       "      <td>0</td>\n",
       "      <td>2.06e+06</td>\n",
       "    </tr>\n",
       "    <tr>\n",
       "      <th>3</th>\n",
       "      <td>3</td>\n",
       "      <td>02/02/2012</td>\n",
       "      <td>Tokat</td>\n",
       "      <td>Other</td>\n",
       "      <td>IL</td>\n",
       "      <td>6</td>\n",
       "      <td>4.5</td>\n",
       "      <td>6.0</td>\n",
       "      <td>6.0</td>\n",
       "      <td>4</td>\n",
       "      <td>...</td>\n",
       "      <td>7.5</td>\n",
       "      <td>25</td>\n",
       "      <td>12</td>\n",
       "      <td>10</td>\n",
       "      <td>6</td>\n",
       "      <td>18</td>\n",
       "      <td>12</td>\n",
       "      <td>12</td>\n",
       "      <td>6</td>\n",
       "      <td>2.68e+06</td>\n",
       "    </tr>\n",
       "    <tr>\n",
       "      <th>4</th>\n",
       "      <td>4</td>\n",
       "      <td>05/09/2009</td>\n",
       "      <td>Gaziantep</td>\n",
       "      <td>Other</td>\n",
       "      <td>IL</td>\n",
       "      <td>3</td>\n",
       "      <td>4.0</td>\n",
       "      <td>3.0</td>\n",
       "      <td>4.0</td>\n",
       "      <td>2</td>\n",
       "      <td>...</td>\n",
       "      <td>3.0</td>\n",
       "      <td>5</td>\n",
       "      <td>1</td>\n",
       "      <td>3</td>\n",
       "      <td>2</td>\n",
       "      <td>3</td>\n",
       "      <td>4</td>\n",
       "      <td>3</td>\n",
       "      <td>3</td>\n",
       "      <td>4.32e+06</td>\n",
       "    </tr>\n",
       "  </tbody>\n",
       "</table>\n",
       "<p>5 rows × 43 columns</p>\n",
       "</div>"
      ],
      "text/plain": [
       "   Id   Open Date        City  City Group Type  P1   P2   P3   P4  P5  \\\n",
       "0   0  07/17/1999    İstanbul  Big Cities   IL   4  5.0  4.0  4.0   2   \n",
       "1   1  02/14/2008      Ankara  Big Cities   FC   4  5.0  4.0  4.0   1   \n",
       "2   2  03/09/2013  Diyarbakır       Other   IL   2  4.0  2.0  5.0   2   \n",
       "3   3  02/02/2012       Tokat       Other   IL   6  4.5  6.0  6.0   4   \n",
       "4   4  05/09/2009   Gaziantep       Other   IL   3  4.0  3.0  4.0   2   \n",
       "\n",
       "     ...     P29  P30  P31  P32  P33  P34  P35  P36  P37   revenue  \n",
       "0    ...     3.0    5    3    4    5    5    4    3    4  5.65e+06  \n",
       "1    ...     3.0    0    0    0    0    0    0    0    0  6.92e+06  \n",
       "2    ...     3.0    0    0    0    0    0    0    0    0  2.06e+06  \n",
       "3    ...     7.5   25   12   10    6   18   12   12    6  2.68e+06  \n",
       "4    ...     3.0    5    1    3    2    3    4    3    3  4.32e+06  \n",
       "\n",
       "[5 rows x 43 columns]"
      ]
     },
     "execution_count": 52,
     "metadata": {},
     "output_type": "execute_result"
    }
   ],
   "source": [
    "import numpy as np # linear algebra\n",
    "import pandas as pd # data processing, CSV file I/O (e.g. pd.read_csv)\n",
    "train = pd.read_csv('../input/train.csv')\n",
    "test = pd.read_csv('../input/test.csv')\n",
    "train.head()"
   ]
  },
  {
   "cell_type": "code",
   "execution_count": 53,
   "metadata": {
    "collapsed": false
   },
   "outputs": [
    {
     "data": {
      "text/html": [
       "<div>\n",
       "<table border=\"1\" class=\"dataframe\">\n",
       "  <thead>\n",
       "    <tr style=\"text-align: right;\">\n",
       "      <th></th>\n",
       "      <th>P1</th>\n",
       "      <th>P2</th>\n",
       "      <th>P3</th>\n",
       "      <th>P4</th>\n",
       "      <th>P5</th>\n",
       "      <th>P6</th>\n",
       "      <th>P7</th>\n",
       "      <th>P8</th>\n",
       "      <th>P9</th>\n",
       "      <th>P10</th>\n",
       "      <th>...</th>\n",
       "      <th>P29</th>\n",
       "      <th>P30</th>\n",
       "      <th>P31</th>\n",
       "      <th>P32</th>\n",
       "      <th>P33</th>\n",
       "      <th>P34</th>\n",
       "      <th>P35</th>\n",
       "      <th>P36</th>\n",
       "      <th>P37</th>\n",
       "      <th>revenue</th>\n",
       "    </tr>\n",
       "  </thead>\n",
       "  <tbody>\n",
       "    <tr>\n",
       "      <th>0</th>\n",
       "      <td>4</td>\n",
       "      <td>5.0</td>\n",
       "      <td>4.0</td>\n",
       "      <td>4.0</td>\n",
       "      <td>2</td>\n",
       "      <td>2</td>\n",
       "      <td>5</td>\n",
       "      <td>4</td>\n",
       "      <td>5</td>\n",
       "      <td>5</td>\n",
       "      <td>...</td>\n",
       "      <td>3.0</td>\n",
       "      <td>5</td>\n",
       "      <td>3</td>\n",
       "      <td>4</td>\n",
       "      <td>5</td>\n",
       "      <td>5</td>\n",
       "      <td>4</td>\n",
       "      <td>3</td>\n",
       "      <td>4</td>\n",
       "      <td>5.65e+06</td>\n",
       "    </tr>\n",
       "    <tr>\n",
       "      <th>1</th>\n",
       "      <td>4</td>\n",
       "      <td>5.0</td>\n",
       "      <td>4.0</td>\n",
       "      <td>4.0</td>\n",
       "      <td>1</td>\n",
       "      <td>2</td>\n",
       "      <td>5</td>\n",
       "      <td>5</td>\n",
       "      <td>5</td>\n",
       "      <td>5</td>\n",
       "      <td>...</td>\n",
       "      <td>3.0</td>\n",
       "      <td>0</td>\n",
       "      <td>0</td>\n",
       "      <td>0</td>\n",
       "      <td>0</td>\n",
       "      <td>0</td>\n",
       "      <td>0</td>\n",
       "      <td>0</td>\n",
       "      <td>0</td>\n",
       "      <td>6.92e+06</td>\n",
       "    </tr>\n",
       "    <tr>\n",
       "      <th>2</th>\n",
       "      <td>2</td>\n",
       "      <td>4.0</td>\n",
       "      <td>2.0</td>\n",
       "      <td>5.0</td>\n",
       "      <td>2</td>\n",
       "      <td>3</td>\n",
       "      <td>5</td>\n",
       "      <td>5</td>\n",
       "      <td>5</td>\n",
       "      <td>5</td>\n",
       "      <td>...</td>\n",
       "      <td>3.0</td>\n",
       "      <td>0</td>\n",
       "      <td>0</td>\n",
       "      <td>0</td>\n",
       "      <td>0</td>\n",
       "      <td>0</td>\n",
       "      <td>0</td>\n",
       "      <td>0</td>\n",
       "      <td>0</td>\n",
       "      <td>2.06e+06</td>\n",
       "    </tr>\n",
       "    <tr>\n",
       "      <th>3</th>\n",
       "      <td>6</td>\n",
       "      <td>4.5</td>\n",
       "      <td>6.0</td>\n",
       "      <td>6.0</td>\n",
       "      <td>4</td>\n",
       "      <td>4</td>\n",
       "      <td>10</td>\n",
       "      <td>8</td>\n",
       "      <td>10</td>\n",
       "      <td>10</td>\n",
       "      <td>...</td>\n",
       "      <td>7.5</td>\n",
       "      <td>25</td>\n",
       "      <td>12</td>\n",
       "      <td>10</td>\n",
       "      <td>6</td>\n",
       "      <td>18</td>\n",
       "      <td>12</td>\n",
       "      <td>12</td>\n",
       "      <td>6</td>\n",
       "      <td>2.68e+06</td>\n",
       "    </tr>\n",
       "    <tr>\n",
       "      <th>4</th>\n",
       "      <td>3</td>\n",
       "      <td>4.0</td>\n",
       "      <td>3.0</td>\n",
       "      <td>4.0</td>\n",
       "      <td>2</td>\n",
       "      <td>2</td>\n",
       "      <td>5</td>\n",
       "      <td>5</td>\n",
       "      <td>5</td>\n",
       "      <td>5</td>\n",
       "      <td>...</td>\n",
       "      <td>3.0</td>\n",
       "      <td>5</td>\n",
       "      <td>1</td>\n",
       "      <td>3</td>\n",
       "      <td>2</td>\n",
       "      <td>3</td>\n",
       "      <td>4</td>\n",
       "      <td>3</td>\n",
       "      <td>3</td>\n",
       "      <td>4.32e+06</td>\n",
       "    </tr>\n",
       "  </tbody>\n",
       "</table>\n",
       "<p>5 rows × 38 columns</p>\n",
       "</div>"
      ],
      "text/plain": [
       "   P1   P2   P3   P4  P5  P6  P7  P8  P9  P10    ...     P29  P30  P31  P32  \\\n",
       "0   4  5.0  4.0  4.0   2   2   5   4   5    5    ...     3.0    5    3    4   \n",
       "1   4  5.0  4.0  4.0   1   2   5   5   5    5    ...     3.0    0    0    0   \n",
       "2   2  4.0  2.0  5.0   2   3   5   5   5    5    ...     3.0    0    0    0   \n",
       "3   6  4.5  6.0  6.0   4   4  10   8  10   10    ...     7.5   25   12   10   \n",
       "4   3  4.0  3.0  4.0   2   2   5   5   5    5    ...     3.0    5    1    3   \n",
       "\n",
       "   P33  P34  P35  P36  P37   revenue  \n",
       "0    5    5    4    3    4  5.65e+06  \n",
       "1    0    0    0    0    0  6.92e+06  \n",
       "2    0    0    0    0    0  2.06e+06  \n",
       "3    6   18   12   12    6  2.68e+06  \n",
       "4    2    3    4    3    3  4.32e+06  \n",
       "\n",
       "[5 rows x 38 columns]"
      ]
     },
     "execution_count": 53,
     "metadata": {},
     "output_type": "execute_result"
    }
   ],
   "source": [
    "train_numeric = train[train.columns[train.dtypes != 'object']]\n",
    "train_numeric = train_numeric.drop(['Id'], axis=1 )\n",
    "train_numeric.head()"
   ]
  },
  {
   "cell_type": "markdown",
   "metadata": {},
   "source": [
    "### Data Description"
   ]
  },
  {
   "cell_type": "code",
   "execution_count": 54,
   "metadata": {
    "collapsed": false
   },
   "outputs": [
    {
     "name": "stdout",
     "output_type": "stream",
     "text": [
      "           P1      P2      P3      P4      P5      P6      P7      P8      P9  \\\n",
      "count  137.00  137.00  137.00  137.00  137.00  137.00  137.00  137.00  137.00   \n",
      "mean     4.01    4.41    4.32    4.37    2.01    3.36    5.42    5.15    5.45   \n",
      "std      2.91    1.51    1.03    1.02    1.21    2.13    2.30    1.86    1.83   \n",
      "min      1.00    1.00    0.00    3.00    1.00    1.00    1.00    1.00    4.00   \n",
      "25%      2.00    4.00    4.00    4.00    1.00    2.00    5.00    4.00    4.00   \n",
      "50%      3.00    5.00    4.00    4.00    2.00    3.00    5.00    5.00    5.00   \n",
      "75%      4.00    5.00    5.00    5.00    2.00    4.00    5.00    5.00    5.00   \n",
      "max     12.00    7.50    7.50    7.50    8.00   10.00   10.00   10.00   10.00   \n",
      "\n",
      "          P10     P11     P12     P13     P14     P15     P16     P17     P18  \n",
      "count  137.00  137.00  137.00  137.00  137.00  137.00  137.00  137.00  137.00  \n",
      "mean     5.49    3.26    5.30    5.08    1.42    1.39    1.94    1.04    1.94  \n",
      "std      1.85    1.91    1.94    1.04    2.73    2.40    3.51    2.03    3.30  \n",
      "min      4.00    1.00    2.00    3.00    0.00    0.00    0.00    0.00    0.00  \n",
      "25%      5.00    2.00    4.00    5.00    0.00    0.00    0.00    0.00    0.00  \n",
      "50%      5.00    3.00    5.00    5.00    0.00    0.00    0.00    0.00    0.00  \n",
      "75%      5.00    4.00    5.00    5.00    2.00    2.00    3.00    1.00    4.00  \n",
      "max     10.00   10.00   10.00    7.50   15.00   10.00   15.00   15.00   12.00  \n"
     ]
    }
   ],
   "source": [
    "pd.set_option('precision', 2)\n",
    "print(train_numeric.iloc[:,:18].describe())"
   ]
  },
  {
   "cell_type": "code",
   "execution_count": 55,
   "metadata": {
    "collapsed": false
   },
   "outputs": [
    {
     "name": "stdout",
     "output_type": "stream",
     "text": [
      "          P19     P20     P21     P22     P23     P24     P25     P26     P27  \\\n",
      "count  137.00  137.00  137.00  137.00  137.00  137.00  137.00  137.00  137.00   \n",
      "mean     4.91    4.55    2.27    2.23    3.42    1.37    1.21    1.47    1.15   \n",
      "std      5.60    3.71    2.05    1.23    4.56    2.30    2.13    2.61    2.07   \n",
      "min      1.00    1.00    1.00    1.00    1.00    0.00    0.00    0.00    0.00   \n",
      "25%      2.00    2.00    1.00    1.00    1.00    0.00    0.00    0.00    0.00   \n",
      "50%      3.00    4.00    1.00    2.00    2.00    0.00    0.00    0.00    0.00   \n",
      "75%      5.00    5.00    3.00    3.00    5.00    2.00    2.00    2.50    2.00   \n",
      "max     25.00   15.00   15.00    5.00   25.00   10.00   10.00   12.50   12.50   \n",
      "\n",
      "          P28     P29     P30     P31     P32     P33     P34     P35     P36  \\\n",
      "count  137.00  137.00  137.00  137.00  137.00  137.00  137.00  137.00  137.00   \n",
      "mean     3.22    3.14    2.73    1.94    2.53    1.14    2.49    2.03    2.21   \n",
      "std      2.31    1.68    5.54    3.51    5.23    1.70    5.17    3.44    4.17   \n",
      "min      1.00    0.00    0.00    0.00    0.00    0.00    0.00    0.00    0.00   \n",
      "25%      2.00    2.50    0.00    0.00    0.00    0.00    0.00    0.00    0.00   \n",
      "50%      2.50    3.00    0.00    0.00    0.00    0.00    0.00    0.00    0.00   \n",
      "75%      4.00    3.00    4.00    3.00    3.00    2.00    3.00    4.00    3.00   \n",
      "max     12.50    7.50   25.00   15.00   25.00    6.00   24.00   15.00   20.00   \n",
      "\n",
      "          P37   revenue  \n",
      "count  137.00  1.37e+02  \n",
      "mean     1.12  4.45e+06  \n",
      "std      1.79  2.58e+06  \n",
      "min      0.00  1.15e+06  \n",
      "25%      0.00  3.00e+06  \n",
      "50%      0.00  3.94e+06  \n",
      "75%      2.00  5.17e+06  \n",
      "max      8.00  1.97e+07  \n"
     ]
    }
   ],
   "source": [
    "print(train_numeric.iloc[:,18:].describe())"
   ]
  },
  {
   "cell_type": "markdown",
   "metadata": {},
   "source": [
    "### Skew"
   ]
  },
  {
   "cell_type": "code",
   "execution_count": 56,
   "metadata": {
    "collapsed": false
   },
   "outputs": [
    {
     "name": "stdout",
     "output_type": "stream",
     "text": [
      "P1         1.84\n",
      "P2         0.04\n",
      "P3         0.15\n",
      "P4         1.04\n",
      "P5         2.41\n",
      "P6         1.56\n",
      "P7         0.67\n",
      "P8         1.47\n",
      "P9         1.73\n",
      "P10        1.72\n",
      "P11        1.32\n",
      "P12        1.40\n",
      "P13        1.16\n",
      "P14        2.88\n",
      "P15        2.01\n",
      "P16        2.22\n",
      "P17        3.45\n",
      "P18        1.97\n",
      "P19        2.50\n",
      "P20        1.64\n",
      "P21        2.73\n",
      "P22        0.81\n",
      "P23        3.28\n",
      "P24        1.77\n",
      "P25        2.20\n",
      "P26        2.15\n",
      "P27        2.46\n",
      "P28        1.92\n",
      "P29        1.54\n",
      "P30        2.88\n",
      "P31        2.29\n",
      "P32        2.92\n",
      "P33        1.24\n",
      "P34        2.72\n",
      "P35        1.99\n",
      "P36        2.43\n",
      "P37        1.58\n",
      "revenue    2.79\n",
      "dtype: float64\n"
     ]
    }
   ],
   "source": [
    "skw = train_numeric.skew()\n",
    "print(skw)"
   ]
  },
  {
   "cell_type": "code",
   "execution_count": 57,
   "metadata": {
    "collapsed": false
   },
   "outputs": [
    {
     "data": {
      "text/plain": [
       "pandas.core.series.Series"
      ]
     },
     "execution_count": 57,
     "metadata": {},
     "output_type": "execute_result"
    }
   ],
   "source": [
    "import matplotlib.pyplot as plt\n",
    "%matplotlib inline\n",
    "type(skw)"
   ]
  },
  {
   "cell_type": "code",
   "execution_count": 58,
   "metadata": {
    "collapsed": false
   },
   "outputs": [
    {
     "data": {
      "text/plain": [
       "P5         2.41\n",
       "P14        2.88\n",
       "P15        2.01\n",
       "P16        2.22\n",
       "P17        3.45\n",
       "P19        2.50\n",
       "P21        2.73\n",
       "P23        3.28\n",
       "P25        2.20\n",
       "P26        2.15\n",
       "P27        2.46\n",
       "P30        2.88\n",
       "P31        2.29\n",
       "P32        2.92\n",
       "P34        2.72\n",
       "P36        2.43\n",
       "revenue    2.79\n",
       "dtype: float64"
      ]
     },
     "execution_count": 58,
     "metadata": {},
     "output_type": "execute_result"
    }
   ],
   "source": [
    "skw[skw > 2]"
   ]
  },
  {
   "cell_type": "code",
   "execution_count": 59,
   "metadata": {
    "collapsed": false
   },
   "outputs": [],
   "source": [
    "skew_above2 = skw[skw > 2].index"
   ]
  },
  {
   "cell_type": "code",
   "execution_count": 60,
   "metadata": {
    "collapsed": false
   },
   "outputs": [
    {
     "data": {
      "image/png": "[encoded data removed]",
      "text/plain": [
       "<matplotlib.figure.Figure at 0x169e68d0>"
      ]
     },
     "metadata": {},
     "output_type": "display_data"
    }
   ],
   "source": [
    "train_numeric[skew_above2].hist()\n",
    "plt.show()"
   ]
  },
  {
   "cell_type": "code",
   "execution_count": 61,
   "metadata": {
    "collapsed": false
   },
   "outputs": [],
   "source": [
    "train_numeric.revenue = np.log(train_numeric.revenue)"
   ]
  },
  {
   "cell_type": "code",
   "execution_count": 64,
   "metadata": {
    "collapsed": false
   },
   "outputs": [
    {
     "name": "stdout",
     "output_type": "stream",
     "text": [
      "0.667778 (0.170932)\n"
     ]
    }
   ],
   "source": [
    "X = train_numeric.drop(['revenue'], axis=1).values\n",
    "y = train_numeric['revenue'].values\n",
    "from sklearn.linear_model import LinearRegression\n",
    "from sklearn.model_selection import cross_val_score\n",
    "model = LinearRegression()\n",
    "cv_results = np.sqrt(-cross_val_score(model, X, y, cv=10, scoring='neg_mean_squared_error'))\n",
    "print('%f (%f)' % (cv_results.mean(), cv_results.std()))\n"
   ]
  },
  {
   "cell_type": "code",
   "execution_count": 67,
   "metadata": {
    "collapsed": false
   },
   "outputs": [],
   "source": [
    "test_numeric = test[test.columns[test.dtypes != 'object']]\n",
    "test_X = test_numeric.drop(['Id'], axis=1).values\n",
    "model = LinearRegression()\n",
    "model.fit(X, y)\n",
    "pred = np.exp(model.predict(test_X))"
   ]
  },
  {
   "cell_type": "code",
   "execution_count": 71,
   "metadata": {
    "collapsed": false
   },
   "outputs": [],
   "source": [
    "submission = pd.DataFrame({'Id': test.Id, 'Prediction': pred})\n",
    "submission.to_csv('sub2.csv', index=False) # Score: 2315172.71236 and 2095 LB standing"
   ]
  },
  {
   "cell_type": "code",
   "execution_count": null,
   "metadata": {
    "collapsed": true
   },
   "outputs": [],
   "source": []
  }
 ],
 "metadata": {
  "kernelspec": {
   "display_name": "Python 2",
   "language": "python",
   "name": "python2"
  },
  "language_info": {
   "codemirror_mode": {
    "name": "ipython",
    "version": 2
   },
   "file_extension": ".py",
   "mimetype": "text/x-python",
   "name": "python",
   "nbconvert_exporter": "python",
   "pygments_lexer": "ipython2",
   "version": "2.7.11"
  }
 },
 "nbformat": 4,
 "nbformat_minor": 0
}
