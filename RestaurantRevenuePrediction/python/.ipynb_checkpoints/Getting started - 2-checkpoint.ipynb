{
 "cells": [
  {
   "cell_type": "markdown",
   "metadata": {},
   "source": [
    "In this script we will focus on feature engineering"
   ]
  },
  {
   "cell_type": "code",
   "execution_count": 1,
   "metadata": {
    "collapsed": false
   },
   "outputs": [
    {
     "data": {
      "text/html": [
       "<div>\n",
       "<table border=\"1\" class=\"dataframe\">\n",
       "  <thead>\n",
       "    <tr style=\"text-align: right;\">\n",
       "      <th></th>\n",
       "      <th>Id</th>\n",
       "      <th>Open Date</th>\n",
       "      <th>City</th>\n",
       "      <th>City Group</th>\n",
       "      <th>Type</th>\n",
       "      <th>P1</th>\n",
       "      <th>P2</th>\n",
       "      <th>P3</th>\n",
       "      <th>P4</th>\n",
       "      <th>P5</th>\n",
       "      <th>...</th>\n",
       "      <th>P29</th>\n",
       "      <th>P30</th>\n",
       "      <th>P31</th>\n",
       "      <th>P32</th>\n",
       "      <th>P33</th>\n",
       "      <th>P34</th>\n",
       "      <th>P35</th>\n",
       "      <th>P36</th>\n",
       "      <th>P37</th>\n",
       "      <th>revenue</th>\n",
       "    </tr>\n",
       "  </thead>\n",
       "  <tbody>\n",
       "    <tr>\n",
       "      <th>0</th>\n",
       "      <td>0</td>\n",
       "      <td>07/17/1999</td>\n",
       "      <td>İstanbul</td>\n",
       "      <td>Big Cities</td>\n",
       "      <td>IL</td>\n",
       "      <td>4</td>\n",
       "      <td>5.0</td>\n",
       "      <td>4.0</td>\n",
       "      <td>4.0</td>\n",
       "      <td>2</td>\n",
       "      <td>...</td>\n",
       "      <td>3.0</td>\n",
       "      <td>5</td>\n",
       "      <td>3</td>\n",
       "      <td>4</td>\n",
       "      <td>5</td>\n",
       "      <td>5</td>\n",
       "      <td>4</td>\n",
       "      <td>3</td>\n",
       "      <td>4</td>\n",
       "      <td>5653753.0</td>\n",
       "    </tr>\n",
       "    <tr>\n",
       "      <th>1</th>\n",
       "      <td>1</td>\n",
       "      <td>02/14/2008</td>\n",
       "      <td>Ankara</td>\n",
       "      <td>Big Cities</td>\n",
       "      <td>FC</td>\n",
       "      <td>4</td>\n",
       "      <td>5.0</td>\n",
       "      <td>4.0</td>\n",
       "      <td>4.0</td>\n",
       "      <td>1</td>\n",
       "      <td>...</td>\n",
       "      <td>3.0</td>\n",
       "      <td>0</td>\n",
       "      <td>0</td>\n",
       "      <td>0</td>\n",
       "      <td>0</td>\n",
       "      <td>0</td>\n",
       "      <td>0</td>\n",
       "      <td>0</td>\n",
       "      <td>0</td>\n",
       "      <td>6923131.0</td>\n",
       "    </tr>\n",
       "    <tr>\n",
       "      <th>2</th>\n",
       "      <td>2</td>\n",
       "      <td>03/09/2013</td>\n",
       "      <td>Diyarbakır</td>\n",
       "      <td>Other</td>\n",
       "      <td>IL</td>\n",
       "      <td>2</td>\n",
       "      <td>4.0</td>\n",
       "      <td>2.0</td>\n",
       "      <td>5.0</td>\n",
       "      <td>2</td>\n",
       "      <td>...</td>\n",
       "      <td>3.0</td>\n",
       "      <td>0</td>\n",
       "      <td>0</td>\n",
       "      <td>0</td>\n",
       "      <td>0</td>\n",
       "      <td>0</td>\n",
       "      <td>0</td>\n",
       "      <td>0</td>\n",
       "      <td>0</td>\n",
       "      <td>2055379.0</td>\n",
       "    </tr>\n",
       "    <tr>\n",
       "      <th>3</th>\n",
       "      <td>3</td>\n",
       "      <td>02/02/2012</td>\n",
       "      <td>Tokat</td>\n",
       "      <td>Other</td>\n",
       "      <td>IL</td>\n",
       "      <td>6</td>\n",
       "      <td>4.5</td>\n",
       "      <td>6.0</td>\n",
       "      <td>6.0</td>\n",
       "      <td>4</td>\n",
       "      <td>...</td>\n",
       "      <td>7.5</td>\n",
       "      <td>25</td>\n",
       "      <td>12</td>\n",
       "      <td>10</td>\n",
       "      <td>6</td>\n",
       "      <td>18</td>\n",
       "      <td>12</td>\n",
       "      <td>12</td>\n",
       "      <td>6</td>\n",
       "      <td>2675511.0</td>\n",
       "    </tr>\n",
       "    <tr>\n",
       "      <th>4</th>\n",
       "      <td>4</td>\n",
       "      <td>05/09/2009</td>\n",
       "      <td>Gaziantep</td>\n",
       "      <td>Other</td>\n",
       "      <td>IL</td>\n",
       "      <td>3</td>\n",
       "      <td>4.0</td>\n",
       "      <td>3.0</td>\n",
       "      <td>4.0</td>\n",
       "      <td>2</td>\n",
       "      <td>...</td>\n",
       "      <td>3.0</td>\n",
       "      <td>5</td>\n",
       "      <td>1</td>\n",
       "      <td>3</td>\n",
       "      <td>2</td>\n",
       "      <td>3</td>\n",
       "      <td>4</td>\n",
       "      <td>3</td>\n",
       "      <td>3</td>\n",
       "      <td>4316715.0</td>\n",
       "    </tr>\n",
       "  </tbody>\n",
       "</table>\n",
       "<p>5 rows × 43 columns</p>\n",
       "</div>"
      ],
      "text/plain": [
       "   Id   Open Date        City  City Group Type  P1   P2   P3   P4  P5  \\\n",
       "0   0  07/17/1999    İstanbul  Big Cities   IL   4  5.0  4.0  4.0   2   \n",
       "1   1  02/14/2008      Ankara  Big Cities   FC   4  5.0  4.0  4.0   1   \n",
       "2   2  03/09/2013  Diyarbakır       Other   IL   2  4.0  2.0  5.0   2   \n",
       "3   3  02/02/2012       Tokat       Other   IL   6  4.5  6.0  6.0   4   \n",
       "4   4  05/09/2009   Gaziantep       Other   IL   3  4.0  3.0  4.0   2   \n",
       "\n",
       "     ...      P29  P30  P31  P32  P33  P34  P35  P36  P37    revenue  \n",
       "0    ...      3.0    5    3    4    5    5    4    3    4  5653753.0  \n",
       "1    ...      3.0    0    0    0    0    0    0    0    0  6923131.0  \n",
       "2    ...      3.0    0    0    0    0    0    0    0    0  2055379.0  \n",
       "3    ...      7.5   25   12   10    6   18   12   12    6  2675511.0  \n",
       "4    ...      3.0    5    1    3    2    3    4    3    3  4316715.0  \n",
       "\n",
       "[5 rows x 43 columns]"
      ]
     },
     "execution_count": 1,
     "metadata": {},
     "output_type": "execute_result"
    }
   ],
   "source": [
    "import numpy as np # linear algebra\n",
    "import pandas as pd # data processing, CSV file I/O (e.g. pd.read_csv)\n",
    "import matplotlib.pyplot as plt\n",
    "%matplotlib inline\n",
    "train = pd.read_csv('../input/train.csv')\n",
    "test = pd.read_csv('../input/test.csv')\n",
    "train.head()"
   ]
  },
  {
   "cell_type": "code",
   "execution_count": 2,
   "metadata": {
    "collapsed": true
   },
   "outputs": [],
   "source": [
    "from sklearn.linear_model import LinearRegression\n",
    "from sklearn.linear_model import Lasso\n",
    "from sklearn.linear_model import ElasticNet\n",
    "from sklearn.linear_model import Ridge \n",
    "from sklearn.tree import DecisionTreeRegressor\n",
    "from sklearn.neighbors import KNeighborsRegressor\n",
    "from sklearn.ensemble import RandomForestRegressor\n",
    "from sklearn.ensemble import GradientBoostingRegressor\n",
    "from sklearn.ensemble import ExtraTreesRegressor\n",
    "from sklearn.ensemble import AdaBoostRegressor\n",
    "from sklearn.svm import SVR\n",
    "from sklearn.model_selection import cross_val_score\n",
    "import matplotlib.pyplot as plt\n",
    "%matplotlib inline\n",
    "\n",
    "def do_cross_val(X, y):\n",
    "    models = []\n",
    "    models.append(('LR', LinearRegression()))\n",
    "    models.append(('LASSO', Lasso()))\n",
    "    models.append(('EN', ElasticNet()))\n",
    "    models.append(('Ridge', Ridge()))\n",
    "    models.append(('CART', DecisionTreeRegressor()))\n",
    "    models.append(('KNN', KNeighborsRegressor()))\n",
    "    models.append(('GBR', GradientBoostingRegressor()))\n",
    "    models.append(('ETR', ExtraTreesRegressor()))\n",
    "    models.append(('ABR', AdaBoostRegressor()))\n",
    "    models.append(('SVR', SVR()))\n",
    "\n",
    "    names = []\n",
    "    results = []\n",
    "    for name, model in models:\n",
    "        cv_result = np.sqrt(-cross_val_score(model, X, y, cv=5, scoring='neg_mean_squared_error'))\n",
    "        names.append(name)\n",
    "        results.append(cv_result)\n",
    "        print(\"%5s: %f (%f)\" % (name, cv_result.mean(), cv_result.std()))\n",
    "    fig = plt.figure()\n",
    "    fig.suptitle('Algorithm Comparison')\n",
    "    ax = fig.add_subplot(111)\n",
    "    plt.boxplot(results)\n",
    "    ax.set_xticklabels(names)\n",
    "    plt.show()\n",
    "    \n",
    "def prepare_submission(X, y, test_X, step):    \n",
    "    # prepare submission\n",
    "    models = []\n",
    "    models.append(('LR', LinearRegression()))\n",
    "    models.append(('LASSO', Lasso()))\n",
    "    models.append(('EN', ElasticNet()))\n",
    "    models.append(('Ridge', Ridge()))\n",
    "    models.append(('CART', DecisionTreeRegressor()))\n",
    "    models.append(('KNN', KNeighborsRegressor()))\n",
    "    models.append(('GBR', GradientBoostingRegressor()))\n",
    "    models.append(('ETR', ExtraTreesRegressor()))\n",
    "    models.append(('ABR', AdaBoostRegressor()))\n",
    "    models.append(('SVR', SVR()))\n",
    "    for name, model in models:\n",
    "        model.fit(X, y)\n",
    "        pred = np.exp(model.predict(test_X))\n",
    "        submission = pd.DataFrame({'Id': test.Id, 'Prediction': pred})\n",
    "        filename = \"sub\"+ step + name + \".gz\"\n",
    "        submission.to_csv(filename, index=False, compression='gzip')"
   ]
  },
  {
   "cell_type": "markdown",
   "metadata": {},
   "source": [
    "## Just the numeric data - Cross validation baseline"
   ]
  },
  {
   "cell_type": "code",
   "execution_count": 3,
   "metadata": {
    "collapsed": false
   },
   "outputs": [
    {
     "name": "stdout",
     "output_type": "stream",
     "text": [
      "   LR: 3925951.613995 (1662750.741937)\n",
      "LASSO: 3926463.963784 (1661989.714919)\n",
      "   EN: 2686502.763686 (687959.517266)\n"
     ]
    },
    {
     "name": "stderr",
     "output_type": "stream",
     "text": [
      "C:\\Users\\Shinto\\Anaconda2\\lib\\site-packages\\sklearn\\linear_model\\coordinate_descent.py:479: ConvergenceWarning: Objective did not converge. You might want to increase the number of iterations. Fitting data with very small alpha may cause precision problems.\n",
      "  ConvergenceWarning)\n"
     ]
    },
    {
     "name": "stdout",
     "output_type": "stream",
     "text": [
      "Ridge: 3743234.043571 (1575848.246269)\n",
      " CART: 3289438.675984 (407708.503792)\n",
      "  KNN: 2549222.985014 (515076.058020)\n",
      "  GBR: 2768584.913159 (388541.826445)\n",
      "  ETR: 2742925.056454 (513637.942274)\n",
      "  ABR: 3021934.273582 (486867.973090)\n",
      "  SVR: 2550720.890781 (614589.901273)\n"
     ]
    },
    {
     "data": {
      "image/png": "[encoded data removed]",
      "text/plain": [
       "<matplotlib.figure.Figure at 0xc17abe0>"
      ]
     },
     "metadata": {},
     "output_type": "display_data"
    }
   ],
   "source": [
    "X = train[train.columns[train.dtypes !='object']].drop(['Id', 'revenue'], axis=1)\n",
    "y = train['revenue']\n",
    "do_cross_val(X, y)\n"
   ]
  },
  {
   "cell_type": "markdown",
   "metadata": {},
   "source": [
    "## Feature Processing"
   ]
  },
  {
   "cell_type": "markdown",
   "metadata": {},
   "source": [
    "## Fe1. Open Date - convert to number days since opened"
   ]
  },
  {
   "cell_type": "code",
   "execution_count": 4,
   "metadata": {
    "collapsed": false
   },
   "outputs": [
    {
     "data": {
      "text/plain": [
       "(100137, 42)"
      ]
     },
     "execution_count": 4,
     "metadata": {},
     "output_type": "execute_result"
    }
   ],
   "source": [
    "all_data = pd.concat([train.drop(['revenue'], axis=1), test], )\n",
    "all_data.shape"
   ]
  },
  {
   "cell_type": "code",
   "execution_count": 5,
   "metadata": {
    "collapsed": false
   },
   "outputs": [
    {
     "data": {
      "text/plain": [
       "(100137, 42)"
      ]
     },
     "execution_count": 5,
     "metadata": {},
     "output_type": "execute_result"
    }
   ],
   "source": [
    "dates = all_data['Open Date'].apply(pd.to_datetime)\n",
    "last_date = dates.max()\n",
    "all_data['Days'] = (last_date - dates).dt.days + 1\n",
    "all_data = all_data.drop(['Open Date'], axis=1)\n",
    "all_data.shape"
   ]
  },
  {
   "cell_type": "code",
   "execution_count": 6,
   "metadata": {
    "collapsed": false
   },
   "outputs": [
    {
     "name": "stdout",
     "output_type": "stream",
     "text": [
      "   LR: 4084605.860953 (1577644.922152)\n",
      "LASSO: 4084958.788596 (1576961.809163)\n",
      "   EN: 2790565.859017 (581164.946046)\n",
      "Ridge: 3892265.169171 (1493394.420617)\n",
      " CART: 3491183.487966 (249211.193403)\n",
      "  KNN: 2551825.896665 (400576.877868)\n",
      "  GBR: 2813637.536469 (256530.460811)\n",
      "  ETR: 2656561.264325 (542720.362544)\n",
      "  ABR: 2975663.974233 (271336.978586)\n",
      "  SVR: 2550720.877186 (614590.068947)\n"
     ]
    },
    {
     "data": {
      "image/png": "[encoded data removed]",
      "text/plain": [
       "<matplotlib.figure.Figure at 0x9057f60>"
      ]
     },
     "metadata": {},
     "output_type": "display_data"
    }
   ],
   "source": [
    "all_data_num = all_data[all_data.columns[all_data.dtypes !='object']].drop(['Id'], axis=1)\n",
    "\n",
    "X = all_data_num.iloc[:train.shape[0],:]\n",
    "y = train['revenue']\n",
    "do_cross_val(X, y)"
   ]
  },
  {
   "cell_type": "markdown",
   "metadata": {},
   "source": [
    "## Fe2. log transform Days and revenue"
   ]
  },
  {
   "cell_type": "code",
   "execution_count": 7,
   "metadata": {
    "collapsed": false
   },
   "outputs": [
    {
     "name": "stdout",
     "output_type": "stream",
     "text": [
      "   LR: 0.731375 (0.282169)\n",
      "LASSO: 0.476670 (0.059818)\n",
      "   EN: 0.476670 (0.059818)\n",
      "Ridge: 0.699917 (0.266653)\n",
      " CART: 0.570877 (0.063214)\n",
      "  KNN: 0.466725 (0.055833)\n",
      "  GBR: 0.457753 (0.035845)\n",
      "  ETR: 0.459775 (0.054708)\n",
      "  ABR: 0.464597 (0.064497)\n",
      "  SVR: 0.420703 (0.043562)\n"
     ]
    },
    {
     "data": {
      "image/png": "[encoded data removed]",
      "text/plain": [
       "<matplotlib.figure.Figure at 0xc28f5c0>"
      ]
     },
     "metadata": {},
     "output_type": "display_data"
    }
   ],
   "source": [
    "train.revenue = np.log(train.revenue)\n",
    "all_data.Days = np.log(all_data.Days)\n",
    "all_data_num = all_data[all_data.columns[all_data.dtypes !='object']].drop(['Id'], axis=1)\n",
    "X = all_data_num.iloc[:train.shape[0],:]\n",
    "y = train['revenue']\n",
    "do_cross_val(X, y)"
   ]
  },
  {
   "cell_type": "code",
   "execution_count": 8,
   "metadata": {
    "collapsed": false
   },
   "outputs": [],
   "source": [
    "\n",
    "test_X = all_data_num.iloc[train.shape[0]:,:]\n",
    "prepare_submission(X, y, test_X, \"Fe2\")\n",
    "# SVR model 853 position on leaderboard"
   ]
  },
  {
   "cell_type": "markdown",
   "metadata": {},
   "source": [
    "### Fe3. Categorical variables:  City Group and Type"
   ]
  },
  {
   "cell_type": "markdown",
   "metadata": {},
   "source": [
    "Note: Types DT and MB are rare"
   ]
  },
  {
   "cell_type": "code",
   "execution_count": 9,
   "metadata": {
    "collapsed": false
   },
   "outputs": [
    {
     "name": "stdout",
     "output_type": "stream",
     "text": [
      "(100137, 43)\n"
     ]
    }
   ],
   "source": [
    "\n",
    "all_data = pd.concat([all_data, pd.get_dummies(all_data['City Group'], 'CG')], axis=1)\n",
    "all_data = pd.concat([all_data, pd.get_dummies(all_data['Type'], 'T')], axis=1)\n",
    "all_data = all_data.drop(['City Group', 'Type','CG_Other', 'T_DT', 'T_MB'], axis=1)\n",
    "print(all_data.shape)"
   ]
  },
  {
   "cell_type": "code",
   "execution_count": 10,
   "metadata": {
    "collapsed": false
   },
   "outputs": [
    {
     "name": "stdout",
     "output_type": "stream",
     "text": [
      "   LR: 0.738817 (0.251867)\n",
      "LASSO: 0.476670 (0.059818)\n",
      "   EN: 0.476670 (0.059818)\n",
      "Ridge: 0.707135 (0.248703)\n",
      " CART: 0.529792 (0.072009)\n",
      "  KNN: 0.458317 (0.056088)\n",
      "  GBR: 0.457971 (0.025699)\n",
      "  ETR: 0.442631 (0.049428)\n",
      "  ABR: 0.457472 (0.064442)\n",
      "  SVR: 0.417757 (0.042849)\n"
     ]
    },
    {
     "data": {
      "image/png": "[encoded data removed]",
      "text/plain": [
       "<matplotlib.figure.Figure at 0xd0e8128>"
      ]
     },
     "metadata": {},
     "output_type": "display_data"
    }
   ],
   "source": [
    "all_data_num = all_data[all_data.columns[all_data.dtypes !='object']].drop(['Id'], axis=1)\n",
    "X = all_data_num.iloc[:train.shape[0],:]\n",
    "y = train['revenue']\n",
    "do_cross_val(X, y)\n",
    "test_X = all_data_num.iloc[train.shape[0]:,:]\n",
    "prepare_submission(X, y, test_X, \"Fe3\")"
   ]
  },
  {
   "cell_type": "markdown",
   "metadata": {},
   "source": [
    "### Categorical variable: City"
   ]
  },
  {
   "cell_type": "code",
   "execution_count": 11,
   "metadata": {
    "collapsed": false
   },
   "outputs": [
    {
     "data": {
      "text/plain": [
       "(100137, 105)"
      ]
     },
     "execution_count": 11,
     "metadata": {},
     "output_type": "execute_result"
    }
   ],
   "source": [
    "all_data = pd.concat([all_data, pd.get_dummies(all_data['City'], 'City')], axis=1)\n",
    "all_data = all_data.drop(['City'], axis=1)\n",
    "all_data.shape"
   ]
  },
  {
   "cell_type": "code",
   "execution_count": 12,
   "metadata": {
    "collapsed": false
   },
   "outputs": [
    {
     "name": "stdout",
     "output_type": "stream",
     "text": [
      "   LR: 0.741962 (0.161497)\n",
      "LASSO: 0.476670 (0.059818)\n",
      "   EN: 0.476670 (0.059818)\n",
      "Ridge: 0.631819 (0.157815)\n",
      " CART: 0.586370 (0.069383)\n",
      "  KNN: 0.458997 (0.055092)\n",
      "  GBR: 0.458430 (0.047789)\n",
      "  ETR: 0.463010 (0.025575)\n",
      "  ABR: 0.435244 (0.056679)\n",
      "  SVR: 0.404555 (0.044642)\n"
     ]
    },
    {
     "data": {
      "image/png": "[encoded data removed]",
      "text/plain": [
       "<matplotlib.figure.Figure at 0xce27550>"
      ]
     },
     "metadata": {},
     "output_type": "display_data"
    }
   ],
   "source": [
    "all_data_num = all_data[all_data.columns[all_data.dtypes !='object']].drop(['Id'], axis=1)\n",
    "X = all_data_num.iloc[:train.shape[0],:]\n",
    "y = train['revenue']\n",
    "do_cross_val(X, y)\n",
    "test_X = all_data_num.iloc[train.shape[0]:,:]\n",
    "prepare_submission(X, y, test_X, \"Fe3City\")"
   ]
  },
  {
   "cell_type": "code",
   "execution_count": null,
   "metadata": {
    "collapsed": false
   },
   "outputs": [],
   "source": [
    "\n"
   ]
  }
 ],
 "metadata": {
  "kernelspec": {
   "display_name": "Python 2",
   "language": "python",
   "name": "python2"
  },
  "language_info": {
   "codemirror_mode": {
    "name": "ipython",
    "version": 2
   },
   "file_extension": ".py",
   "mimetype": "text/x-python",
   "name": "python",
   "nbconvert_exporter": "python",
   "pygments_lexer": "ipython2",
   "version": "2.7.11"
  }
 },
 "nbformat": 4,
 "nbformat_minor": 0
}
